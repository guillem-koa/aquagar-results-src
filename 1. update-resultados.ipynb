{
 "cells": [
  {
   "cell_type": "code",
   "execution_count": 8,
   "metadata": {},
   "outputs": [],
   "source": [
    "import pandas as pd\n",
    "import os"
   ]
  },
  {
   "cell_type": "code",
   "execution_count": 15,
   "metadata": {},
   "outputs": [],
   "source": [
    "AA_serials = [item for item in os.listdir('../') if 'AA' in item]\n",
    "AA_serial = 'AA-202310-001'\n",
    "\n",
    "# Define path of an Aquagar machine\n",
    "AA_machine_folder_path = f'../{AA_serial}'\n",
    "\n",
    "# Define path of Raw Data folders\n",
    "AA_RawData_folder_path = os.path.join(AA_machine_folder_path, 'Raw Data')\n",
    "experiment_folders_paths = [os.path.join(AA_RawData_folder_path, item) for item in os.listdir(AA_RawData_folder_path)[1:]]"
   ]
  },
  {
   "cell_type": "code",
   "execution_count": 19,
   "metadata": {},
   "outputs": [],
   "source": [
    "human_checked_results_df_list = []\n",
    "for experiment_folder_path in experiment_folders_paths:\n",
    "    # Id\n",
    "    plate_results_excel_path = os.path.join(experiment_folder_path, 'outputs', 'results.xlsx')\n",
    "    if os.path.exists(plate_results_excel_path):\n",
    "        excel_options = {'dtype': {'Fecha': str, 'Muestra': str, 'Plate_ID':str},  # Specify data types for columns \n",
    "                         }\n",
    "        results_df = pd.read_excel(plate_results_excel_path, **excel_options)\n",
    "        if (results_df['HumanChecked']==0).all(): \n",
    "            human_checked_results_df_list.append(results_df)\n",
    "   "
   ]
  },
  {
   "cell_type": "code",
   "execution_count": 20,
   "metadata": {},
   "outputs": [],
   "source": [
    "# Drop 'HumanChecked' column and sort acendingly according to date\n",
    "updated_df = pd.concat(human_checked_results_df_list, axis = 0).drop(columns='HumanChecked').sort_values(by='FechaExperimento', ascending=True) "
   ]
  },
  {
   "cell_type": "code",
   "execution_count": 21,
   "metadata": {},
   "outputs": [
    {
     "data": {
      "text/html": [
       "<div>\n",
       "<style scoped>\n",
       "    .dataframe tbody tr th:only-of-type {\n",
       "        vertical-align: middle;\n",
       "    }\n",
       "\n",
       "    .dataframe tbody tr th {\n",
       "        vertical-align: top;\n",
       "    }\n",
       "\n",
       "    .dataframe thead th {\n",
       "        text-align: right;\n",
       "    }\n",
       "</style>\n",
       "<table border=\"1\" class=\"dataframe\">\n",
       "  <thead>\n",
       "    <tr style=\"text-align: right;\">\n",
       "      <th></th>\n",
       "      <th>FechaExperimento</th>\n",
       "      <th>Muestra</th>\n",
       "      <th>Plate_ID</th>\n",
       "      <th>Vibrio</th>\n",
       "      <th>Aeromonas</th>\n",
       "      <th>Photobacterium</th>\n",
       "      <th>Staphyloccocus</th>\n",
       "      <th>Micrococcus</th>\n",
       "      <th>Microbiota</th>\n",
       "    </tr>\n",
       "  </thead>\n",
       "  <tbody>\n",
       "    <tr>\n",
       "      <th>0</th>\n",
       "      <td>2024-01-05</td>\n",
       "      <td>Nombre muestra fila de arriba</td>\n",
       "      <td>0021</td>\n",
       "      <td>🟢</td>\n",
       "      <td>🟢</td>\n",
       "      <td>🟢</td>\n",
       "      <td>🟢</td>\n",
       "      <td>🟢</td>\n",
       "      <td>NaN</td>\n",
       "    </tr>\n",
       "    <tr>\n",
       "      <th>1</th>\n",
       "      <td>2024-01-05</td>\n",
       "      <td>Nombre muestra fila de abajo</td>\n",
       "      <td>0021</td>\n",
       "      <td>🟢</td>\n",
       "      <td>🟢</td>\n",
       "      <td>🟢</td>\n",
       "      <td>🟢</td>\n",
       "      <td>🟢</td>\n",
       "      <td>NaN</td>\n",
       "    </tr>\n",
       "  </tbody>\n",
       "</table>\n",
       "</div>"
      ],
      "text/plain": [
       "  FechaExperimento                        Muestra Plate_ID Vibrio Aeromonas  \\\n",
       "0       2024-01-05  Nombre muestra fila de arriba     0021      🟢         🟢   \n",
       "1       2024-01-05   Nombre muestra fila de abajo     0021      🟢         🟢   \n",
       "\n",
       "  Photobacterium Staphyloccocus Micrococcus Microbiota  \n",
       "0              🟢              🟢           🟢        NaN  \n",
       "1              🟢              🟢           🟢        NaN  "
      ]
     },
     "execution_count": 21,
     "metadata": {},
     "output_type": "execute_result"
    }
   ],
   "source": [
    "updated_df"
   ]
  },
  {
   "cell_type": "code",
   "execution_count": 22,
   "metadata": {},
   "outputs": [],
   "source": [
    "leyenda_df = pd.DataFrame({'Presencia Patogénica': ['🟢 Presencia nula',\n",
    "              '🟡 Presencia baja',\n",
    "              '🟠 Presencia media', \n",
    "              '🔴 Presencia alta']})"
   ]
  },
  {
   "cell_type": "code",
   "execution_count": 24,
   "metadata": {},
   "outputs": [],
   "source": [
    "import pandas as pd\n",
    "from openpyxl import Workbook\n",
    "from openpyxl.styles import Alignment, PatternFill, Border, Side\n",
    "\n",
    "df = updated_df\n",
    "\n",
    "# Destination file\n",
    "excel_path = os.path.join(AA_machine_folder_path, AA_serial + \" Resultados.xlsx\")\n",
    "\n",
    "# Create a Pandas Excel writer using openpyxl\n",
    "with pd.ExcelWriter(excel_path, engine='openpyxl') as writer:\n",
    "    # Write the DataFrame to the Excel file\n",
    "    updated_df.to_excel(writer, sheet_name='Resultados', index = False)\n",
    "    leyenda_df.to_excel(writer, sheet_name='Leyenda', index = False)\n",
    "\n",
    "    # Access the Excel writer's workbook and sheet\n",
    "    workbook = writer.book\n",
    "    sheet = writer.sheets['Resultados']\n",
    "\n",
    "    # Define cell formatting styles\n",
    "    centered_alignment = Alignment(horizontal='center', vertical='center')\n",
    "    lighter_gray_fill = PatternFill(start_color='F0F0F0', end_color='F0F0F0', fill_type='solid')\n",
    "    no_border = Border()\n",
    "\n",
    "    # Apply formatting to all cells in the sheet\n",
    "    for row in sheet.iter_rows(min_row=1, max_row=sheet.max_row, min_col=1, max_col=sheet.max_column):\n",
    "        for cell in row:\n",
    "            cell.alignment = centered_alignment\n",
    "            cell.fill = lighter_gray_fill\n",
    "            cell.border = no_border\n",
    "            cell.number_format = '@'\n",
    "\n",
    "    # Save the workbook to the Excel file\n",
    "    workbook.save(excel_path)"
   ]
  },
  {
   "cell_type": "code",
   "execution_count": null,
   "metadata": {},
   "outputs": [],
   "source": []
  }
 ],
 "metadata": {
  "kernelspec": {
   "display_name": "myenv",
   "language": "python",
   "name": "python3"
  },
  "language_info": {
   "codemirror_mode": {
    "name": "ipython",
    "version": 3
   },
   "file_extension": ".py",
   "mimetype": "text/x-python",
   "name": "python",
   "nbconvert_exporter": "python",
   "pygments_lexer": "ipython3",
   "version": "3.10.12"
  }
 },
 "nbformat": 4,
 "nbformat_minor": 2
}
