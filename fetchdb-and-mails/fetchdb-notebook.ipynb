{
 "cells": [
  {
   "cell_type": "markdown",
   "metadata": {},
   "source": [
    "# Step 1: Querying *aquagar* DB\n",
    "* Defining *aquagar_data*\n",
    "* Table 'aquagar' is queried looking for new rows in the last 24 hours.\n",
    "    * Only the fields TIME_STAMP, SERIAL_NUM, PLATE_ID, TIME_POINT, TIME_STAMP, ROW, PRED are queried."
   ]
  },
  {
   "cell_type": "code",
   "execution_count": 1,
   "metadata": {},
   "outputs": [],
   "source": [
    "# Set the range in days\n",
    "range = '1'"
   ]
  },
  {
   "cell_type": "code",
   "execution_count": 2,
   "metadata": {},
   "outputs": [],
   "source": [
    "# Query the 'aquagar' table in KOAPredictions database\n",
    "import mysql.connector\n",
    "\n",
    "# Replace with your MySQL connection details\n",
    "host =  '10.8.0.1'\n",
    "username = 'pere'\n",
    "password = 'Nemomola5'\n",
    "database_name =  'KOAPredictions'\n",
    "\n",
    "# Create a connection to the MySQL server\n",
    "db_connection = mysql.connector.connect(\n",
    "    host=host,\n",
    "    user=username,\n",
    "    password=password,\n",
    "    database=database_name\n",
    ")\n",
    "\n",
    "# Create a cursor to execute SQL commands\n",
    "cursor = db_connection.cursor(dictionary=True)\n",
    "\n",
    "try:\n",
    "    # Query the full table with the specified range\n",
    "    query = f\"SELECT TIME_STAMP, SERIAL_NUM, PLATE_ID, TIME_POINT, TIME_STAMP, ROW, PRED, HUMAN_CHECKED FROM aquagar WHERE STR_TO_DATE(TIME_STAMP, '%Y-%m-%d %H:%i:%s') >= DATE_SUB(CURDATE(), INTERVAL {range} DAY)\"\n",
    "    cursor.execute(query)\n",
    "\n",
    "    # Fetch all rows\n",
    "    aquagar_data = cursor.fetchall()\n",
    "    cursor.close()\n",
    "\n",
    "except mysql.connector.Error as err:\n",
    "    print(f\"Error: {err}\")\n",
    "\n",
    "finally:\n",
    "    db_connection.close()\n"
   ]
  },
  {
   "cell_type": "markdown",
   "metadata": {},
   "source": [
    "# Step 2: Filtering logic\n",
    "* For every (serial_num, plate_id, row) we *only look at the latest entry*. \n",
    "* Human_checked must be true.\n",
    "* MISSING: if its time_point <= 24h, we should not consider it for email-sending (it will be considered at a later stage)."
   ]
  },
  {
   "cell_type": "code",
   "execution_count": 3,
   "metadata": {},
   "outputs": [
    {
     "data": {
      "text/html": [
       "<div>\n",
       "<style scoped>\n",
       "    .dataframe tbody tr th:only-of-type {\n",
       "        vertical-align: middle;\n",
       "    }\n",
       "\n",
       "    .dataframe tbody tr th {\n",
       "        vertical-align: top;\n",
       "    }\n",
       "\n",
       "    .dataframe thead th {\n",
       "        text-align: right;\n",
       "    }\n",
       "</style>\n",
       "<table border=\"1\" class=\"dataframe\">\n",
       "  <thead>\n",
       "    <tr style=\"text-align: right;\">\n",
       "      <th></th>\n",
       "      <th>TIME_STAMP</th>\n",
       "      <th>SERIAL_NUM</th>\n",
       "      <th>PLATE_ID</th>\n",
       "      <th>TIME_POINT</th>\n",
       "      <th>ROW</th>\n",
       "      <th>PRED</th>\n",
       "      <th>HUMAN_CHECKED</th>\n",
       "    </tr>\n",
       "  </thead>\n",
       "  <tbody>\n",
       "    <tr>\n",
       "      <th>2</th>\n",
       "      <td>2023-11-30</td>\n",
       "      <td>AA-202310-001</td>\n",
       "      <td>Non-readable</td>\n",
       "      <td>48h</td>\n",
       "      <td>1</td>\n",
       "      <td>{'ahydrophila': 0, 'asalmonicida': 0, 'bcereus...</td>\n",
       "      <td>1</td>\n",
       "    </tr>\n",
       "    <tr>\n",
       "      <th>3</th>\n",
       "      <td>2023-11-30</td>\n",
       "      <td>AA-202310-001</td>\n",
       "      <td>Non-readable</td>\n",
       "      <td>48h</td>\n",
       "      <td>2</td>\n",
       "      <td>{'ahydrophila': 0, 'asalmonicida': 0, 'bcereus...</td>\n",
       "      <td>1</td>\n",
       "    </tr>\n",
       "  </tbody>\n",
       "</table>\n",
       "</div>"
      ],
      "text/plain": [
       "  TIME_STAMP     SERIAL_NUM      PLATE_ID TIME_POINT ROW  \\\n",
       "2 2023-11-30  AA-202310-001  Non-readable        48h   1   \n",
       "3 2023-11-30  AA-202310-001  Non-readable        48h   2   \n",
       "\n",
       "                                                PRED  HUMAN_CHECKED  \n",
       "2  {'ahydrophila': 0, 'asalmonicida': 0, 'bcereus...              1  \n",
       "3  {'ahydrophila': 0, 'asalmonicida': 0, 'bcereus...              1  "
      ]
     },
     "execution_count": 3,
     "metadata": {},
     "output_type": "execute_result"
    }
   ],
   "source": [
    "import pandas as pd\n",
    "import json\n",
    "\n",
    "df = pd.DataFrame(aquagar_data)\n",
    "\n",
    "# Convert timestamp to datetime format\n",
    "df['TIME_STAMP'] = pd.to_datetime(df['TIME_STAMP'])\n",
    "\n",
    "# Find the index of the latest timestamp for each plate_id\n",
    "latest_indices = df.groupby(['SERIAL_NUM', 'PLATE_ID', 'ROW'])['TIME_STAMP'].idxmax()\n",
    "\n",
    "# Create a new DataFrame with only the rows corresponding to the latest timestamps\n",
    "latest_df = df.loc[latest_indices]\n",
    "\n",
    "# Format the PRED column to dictionaries\n",
    "latest_df['PRED'] = latest_df['PRED'].apply(lambda x: json.loads(x.decode('utf-8')))\n",
    "\n",
    "# Filter by human_checked true\n",
    "latest_df = latest_df[latest_df['HUMAN_CHECKED'] == True]\n",
    "latest_df\n"
   ]
  },
  {
   "cell_type": "markdown",
   "metadata": {},
   "source": [
    "# Step 3: Transforming *prediction* object\n",
    "* We want to do two things:\n",
    "    * Go from a *species-level* prediction to a *family-level* prediction.\n",
    "    * We want icons for Low-Med-Hig.\n",
    "    * QUESTION: Do we want an icon for NONE?"
   ]
  },
  {
   "cell_type": "code",
   "execution_count": 4,
   "metadata": {},
   "outputs": [
    {
     "data": {
      "text/html": [
       "<div>\n",
       "<style scoped>\n",
       "    .dataframe tbody tr th:only-of-type {\n",
       "        vertical-align: middle;\n",
       "    }\n",
       "\n",
       "    .dataframe tbody tr th {\n",
       "        vertical-align: top;\n",
       "    }\n",
       "\n",
       "    .dataframe thead th {\n",
       "        text-align: right;\n",
       "    }\n",
       "</style>\n",
       "<table border=\"1\" class=\"dataframe\">\n",
       "  <thead>\n",
       "    <tr style=\"text-align: right;\">\n",
       "      <th></th>\n",
       "      <th>TIME_STAMP</th>\n",
       "      <th>SERIAL_NUM</th>\n",
       "      <th>PLATE_ID</th>\n",
       "      <th>TIME_POINT</th>\n",
       "      <th>ROW</th>\n",
       "      <th>PRED</th>\n",
       "      <th>HUMAN_CHECKED</th>\n",
       "      <th>PRED_FAMILY</th>\n",
       "      <th>PRED_FAMILY_ICONS</th>\n",
       "      <th>DIVERSITY_INDICATOR</th>\n",
       "    </tr>\n",
       "  </thead>\n",
       "  <tbody>\n",
       "    <tr>\n",
       "      <th>2</th>\n",
       "      <td>2023-11-30</td>\n",
       "      <td>AA-202310-001</td>\n",
       "      <td>Non-readable</td>\n",
       "      <td>48h</td>\n",
       "      <td>1</td>\n",
       "      <td>{'ahydrophila': 0, 'asalmonicida': 0, 'bcereus...</td>\n",
       "      <td>1</td>\n",
       "      <td>{'Vibrio': 10, 'Aeromonas': 0, 'Photobacterium...</td>\n",
       "      <td>{'Vibrio': '🟢', 'Aeromonas': '⚪️', 'Photobacte...</td>\n",
       "      <td>➖</td>\n",
       "    </tr>\n",
       "    <tr>\n",
       "      <th>3</th>\n",
       "      <td>2023-11-30</td>\n",
       "      <td>AA-202310-001</td>\n",
       "      <td>Non-readable</td>\n",
       "      <td>48h</td>\n",
       "      <td>2</td>\n",
       "      <td>{'ahydrophila': 0, 'asalmonicida': 0, 'bcereus...</td>\n",
       "      <td>1</td>\n",
       "      <td>{'Vibrio': 15, 'Aeromonas': 0, 'Photobacterium...</td>\n",
       "      <td>{'Vibrio': '🟠', 'Aeromonas': '⚪️', 'Photobacte...</td>\n",
       "      <td>➖</td>\n",
       "    </tr>\n",
       "  </tbody>\n",
       "</table>\n",
       "</div>"
      ],
      "text/plain": [
       "  TIME_STAMP     SERIAL_NUM      PLATE_ID TIME_POINT ROW  \\\n",
       "2 2023-11-30  AA-202310-001  Non-readable        48h   1   \n",
       "3 2023-11-30  AA-202310-001  Non-readable        48h   2   \n",
       "\n",
       "                                                PRED  HUMAN_CHECKED  \\\n",
       "2  {'ahydrophila': 0, 'asalmonicida': 0, 'bcereus...              1   \n",
       "3  {'ahydrophila': 0, 'asalmonicida': 0, 'bcereus...              1   \n",
       "\n",
       "                                         PRED_FAMILY  \\\n",
       "2  {'Vibrio': 10, 'Aeromonas': 0, 'Photobacterium...   \n",
       "3  {'Vibrio': 15, 'Aeromonas': 0, 'Photobacterium...   \n",
       "\n",
       "                                   PRED_FAMILY_ICONS DIVERSITY_INDICATOR  \n",
       "2  {'Vibrio': '🟢', 'Aeromonas': '⚪️', 'Photobacte...                   ➖  \n",
       "3  {'Vibrio': '🟠', 'Aeromonas': '⚪️', 'Photobacte...                   ➖  "
      ]
     },
     "execution_count": 4,
     "metadata": {},
     "output_type": "execute_result"
    }
   ],
   "source": [
    "from utils import species2families, families2icons, families2microdiversity\n",
    "\n",
    "# Create family-level predictions\n",
    "latest_df['PRED_FAMILY'] = latest_df['PRED'].apply(species2families)\n",
    "latest_df['PRED_FAMILY_ICONS'] = latest_df['PRED_FAMILY'].apply(families2icons)\n",
    "latest_df['DIVERSITY_INDICATOR'] = latest_df['PRED_FAMILY'].apply(families2microdiversity)\n",
    "latest_df"
   ]
  },
  {
   "cell_type": "markdown",
   "metadata": {},
   "source": [
    "# Emailing\n",
    "* Create the list *one_row_one_mail* where rows 1 & 2 are collapsed. That way we get 1 row = 1 email."
   ]
  },
  {
   "cell_type": "code",
   "execution_count": 5,
   "metadata": {},
   "outputs": [],
   "source": [
    "# List of dictionaries: every item in the list is a different email!\n",
    "one_row_one_mail = []\n",
    "for timestamp in latest_df['TIME_STAMP'].unique():\n",
    "    timestamp_filtered_df = latest_df[latest_df['TIME_STAMP']==timestamp]\n",
    "    if len(timestamp_filtered_df) == 2:\n",
    "        timestamp, serial_num, plate_id, time_point = timestamp_filtered_df[['TIME_STAMP', 'SERIAL_NUM', 'PLATE_ID', 'TIME_POINT']].iloc[0].values\n",
    "        family_pred_row1, family_pred_row2 = timestamp_filtered_df[timestamp_filtered_df['ROW']=='1']['PRED_FAMILY_ICONS'].values[0], timestamp_filtered_df[timestamp_filtered_df['ROW']=='2']['PRED_FAMILY_ICONS'].values[0]\n",
    "        diversity_indicator_row1, diversity_indicator_row2 = timestamp_filtered_df['DIVERSITY_INDICATOR'].values[0], timestamp_filtered_df['DIVERSITY_INDICATOR'].values[1]\n",
    "        row = {'TIME_STAMP': timestamp, \n",
    "               'SERIAL_NUM': serial_num, \n",
    "               'PLATE_ID':plate_id, \n",
    "               'TIME_POINT': time_point, \n",
    "               'FAMILY_PRED_ROW1': family_pred_row1, \n",
    "               'FAMILY_PRED_ROW2': family_pred_row2, \n",
    "               'DIVERSITY_INDICATOR_ROW1': diversity_indicator_row1,\n",
    "               'DIVERSITY_INDICATOR_ROW2': diversity_indicator_row2}\n",
    "        one_row_one_mail.append(row)"
   ]
  },
  {
   "cell_type": "code",
   "execution_count": 6,
   "metadata": {},
   "outputs": [],
   "source": [
    "from utils import send_report_email, generate_html_tables, serial_numbers_to_email_addresses"
   ]
  },
  {
   "cell_type": "code",
   "execution_count": 8,
   "metadata": {},
   "outputs": [],
   "source": [
    "for row in one_row_one_mail:\n",
    "    send_report_email(email_receivers=[serial_numbers_to_email_addresses[row['SERIAL_NUM']]['email']], \n",
    "                      name_receiver=serial_numbers_to_email_addresses[row['SERIAL_NUM']]['name'],\n",
    "                      timestamp = row['TIME_STAMP'], \n",
    "                      plate_id = row['PLATE_ID'], \n",
    "                      serial_num = row['SERIAL_NUM'],\n",
    "                      html_tables=generate_html_tables(row['FAMILY_PRED_ROW1'], row['FAMILY_PRED_ROW2'], row['DIVERSITY_INDICATOR_ROW1'],row['DIVERSITY_INDICATOR_ROW2'])\n",
    "                      )\n"
   ]
  },
  {
   "cell_type": "code",
   "execution_count": 7,
   "metadata": {},
   "outputs": [
    {
     "data": {
      "text/plain": [
       "'\\n    <!DOCTYPE html>\\n    <html lang=\"en\">\\n    <head>\\n    <meta charset=\"UTF-8\">\\n    <meta name=\"viewport\" content=\"width=device-width, initial-scale=1.0\">\\n    <style>\\n        body {\\n        font-family: Arial, sans-serif;\\n        margin: 0;\\n        padding: 0;\\n        }\\n\\n        .container {\\n        display: flex;\\n        }\\n\\n        .left-column {\\n        flex: 70%;\\n        padding: 20px;\\n        }\\n\\n        .right-column {\\n        flex: 30%;\\n        padding: 20px;\\n        }\\n\\n        table {\\n        width: 100%;\\n        border-collapse: collapse;\\n        margin-bottom: 20px;\\n        }\\n\\n        th, td {\\n        border: 1px solid #dddddd;\\n        text-align: center;  /* Center align text */\\n        padding: 8px;\\n        }\\n\\n        th {\\n        background-color: #f2f2f2;\\n        }\\n        \\n        /* Style for the blank row */\\n        .blank-row td {\\n            border: none;\\n        }\\n\\n        /* Other styles remain unchanged */\\n\\n    </style>\\n    <title>Dynamic HTML with Python</title>\\n    </head>\\n    <body>\\n\\n    <div class=\"container\">\\n        <div class=\"left-column\">\\n        <table class=\"tg tg-left\">\\n            <thead>\\n            <tr>\\n                <th class=\"tg-rlus\">Bacteria</th>\\n                <th class=\"tg-rlus\">Tanque 1</th>\\n                <th class=\"tg-rlus\">Tanque 2</th>\\n            </tr>\\n            </thead>\\n            <tbody>\\n    \\n            <tr>\\n                <td class=\"tg-jjt0\">Vibrio</td>\\n                <td class=\"tg-j0tj\">🟢</td>\\n                <td class=\"tg-zsvf\">🟠</td>\\n            </tr>\\n    \\n            <tr>\\n                <td class=\"tg-jjt0\">Aeromonas</td>\\n                <td class=\"tg-j0tj\">⚪️</td>\\n                <td class=\"tg-zsvf\">⚪️</td>\\n            </tr>\\n    \\n            <tr>\\n                <td class=\"tg-jjt0\">Photobacterium</td>\\n                <td class=\"tg-j0tj\">⚪️</td>\\n                <td class=\"tg-zsvf\">⚪️</td>\\n            </tr>\\n    \\n            <tr>\\n                <td class=\"tg-jjt0\">Staphyloccocus</td>\\n                <td class=\"tg-j0tj\">🔴</td>\\n                <td class=\"tg-zsvf\">🔴</td>\\n            </tr>\\n    \\n            <tr class=\"blank-row\">\\n                <td colspan=\"3\"></td>\\n            </tr>\\n            <tr>\\n                <th class=\"tg-rlus\"> <b> Biodiversidad </b> </th>\\n                <td class=\"tg-j0tj\"> ➖ </td>\\n                <td class=\"tg-zsvf\"> ➖ </td>\\n            </tr>\\n        </tbody>\\n        </table>\\n        </div>\\n\\n        <div class=\"right-column\">\\n        <table class=\"tg tg-right\">\\n            <thead>\\n            <tr>\\n                <th class=\"tg-baqh\" colspan=\"2\"><span style=\"font-weight:bold\">Indicadores</span></th>\\n            </tr>\\n            </thead>\\n            <tbody> \\n            <tr>\\n                <td class=\"tg-j0tj\"><span style=\"font-weight:400;font-style:normal\">⚪️</span></td>\\n                <td class=\"tg-hmp3\"><span style=\"font-weight:400;font-style:normal\">Presencia nula</span></td>\\n            </tr>\\n            <tr>\\n                <td class=\"tg-j0tj\"><span style=\"font-weight:400;font-style:normal\">🟢</span></td>\\n                <td class=\"tg-hmp3\"><span style=\"font-weight:400;font-style:normal\">Presencia baja</span></td>\\n            </tr>\\n            <tr>\\n                <td class=\"tg-baqh\"><span style=\"font-weight:400;font-style:normal\">🟠</span></td>\\n                <td class=\"tg-0lax\"><span style=\"font-weight:400;font-style:normal\">Presencia media</span></td>\\n            </tr>\\n            <tr>\\n                <td class=\"tg-j0tj\"><span style=\"font-weight:400;font-style:normal\">🔴</span></td>\\n                <td class=\"tg-hmp3\">Presencia alta</td>\\n            </tr>\\n            <tr>\\n                <td class=\"tg-baqh\">➕</td>\\n                <td class=\"tg-0lax\"><span style=\"font-weight:400;font-style:normal\">Microbiota diversa</span></td>\\n            </tr>\\n            <tr>\\n                <td class=\"tg-j0tj\">➖</td>\\n                <td class=\"tg-hmp3\"><span style=\"font-weight:400;font-style:normal\">Microbiota monopolizada</span></td>\\n            </tr>\\n            <tr>\\n                <td class=\"tg-baqh\">\\U0001f7f0</td>\\n                <td class=\"tg-0lax\">No aplicable</td>\\n            </tr>\\n            </tbody>\\n        </table>\\n        </div>\\n    </div>\\n\\n    </body>\\n    </html>\\n    '"
      ]
     },
     "execution_count": 7,
     "metadata": {},
     "output_type": "execute_result"
    }
   ],
   "source": [
    "# Testing\n",
    "for row in one_row_one_mail:\n",
    "    html_code = generate_html_tables(row['FAMILY_PRED_ROW1'], row['FAMILY_PRED_ROW2'], row['DIVERSITY_INDICATOR_ROW1'], row['DIVERSITY_INDICATOR_ROW2'])\n",
    "\n",
    "html_code"
   ]
  }
 ],
 "metadata": {
  "kernelspec": {
   "display_name": "myenv",
   "language": "python",
   "name": "python3"
  },
  "language_info": {
   "codemirror_mode": {
    "name": "ipython",
    "version": 3
   },
   "file_extension": ".py",
   "mimetype": "text/x-python",
   "name": "python",
   "nbconvert_exporter": "python",
   "pygments_lexer": "ipython3",
   "version": "3.10.12"
  }
 },
 "nbformat": 4,
 "nbformat_minor": 2
}
